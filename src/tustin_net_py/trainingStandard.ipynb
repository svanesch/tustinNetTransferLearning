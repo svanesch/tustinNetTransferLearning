{
 "cells": [
  {
   "cell_type": "code",
   "execution_count": 1,
   "metadata": {},
   "outputs": [],
   "source": [
    "import torch \n",
    "import torch.optim as optim\n",
    "\n",
    "import matplotlib.pyplot as plt\n",
    "\n",
    "import glob\n",
    "\n",
    "import numpy as np\n",
    "\n",
    "from utils.tustinNet import TustinNet\n",
    "from utils.loadData import LoadData\n",
    "from utils.tustinLoss import Loss"
   ]
  },
  {
   "cell_type": "code",
   "execution_count": 2,
   "metadata": {},
   "outputs": [],
   "source": [
    "batch_size = 32\n",
    "seq_len = 50\n",
    "step_size = 5\n",
    "\n",
    "trainPath = \"..\\\\..\\\\data\\\\train\\\\\"\n",
    "trainPaths = glob.glob(trainPath + \"*.csv\")\n",
    "\n",
    "_, trainloader, theta_scale, alpha_scale = LoadData(files = trainPaths, seq_len = seq_len, step_size = step_size, batch_size = batch_size, truncation=False)\n",
    "\n",
    "\n",
    "valPath = \"..\\\\..\\\\data\\\\validation\\\\\"\n",
    "valPaths = glob.glob(valPath + \"*.csv\")\n",
    "_, valloader, _, _ = LoadData(files = valPaths, seq_len = seq_len, step_size = step_size, batch_size = batch_size, truncation=False)"
   ]
  },
  {
   "cell_type": "code",
   "execution_count": null,
   "metadata": {},
   "outputs": [],
   "source": [
    "model = TustinNet(input_size = 7, layer_size = 100, output_size = 2, batch_size = batch_size, theta_scale = theta_scale, alpha_scale = alpha_scale)\n",
    "\n",
    "optimizer = optim.Adam(model.parameters(), lr=0.001)\n",
    "\n",
    "scheduler = optim.lr_scheduler.ReduceLROnPlateau(optimizer, 'min', factor=0.9, patience=10)"
   ]
  },
  {
   "cell_type": "code",
   "execution_count": null,
   "metadata": {},
   "outputs": [],
   "source": [
    "numEpochs = 120\n",
    "trainLossList = []\n",
    "valLossList = []\n",
    "lrList = []\n",
    "bestLoss = None\n",
    "for epoch in range(numEpochs):\n",
    "    trainLoss = 0.0\n",
    "    valLoss = 0.0\n",
    "    for _, (u_batch, y_batch) in enumerate(trainloader):\n",
    "        # Select initial states\n",
    "        hidden0 = y_batch[:,0,:]          # shape (batch_size, 1, 4)\n",
    "\n",
    "        # Zero the gradients\n",
    "        model.zero_grad()\n",
    "\n",
    "        # Forward pass\n",
    "        y_pred, _ = model(u_batch, hidden0)\n",
    "\n",
    "        # Evaluate the loss\n",
    "        loss = Loss(y_pred, y_batch)\n",
    "\n",
    "        # Backward pass\n",
    "        loss.backward()\n",
    "\n",
    "        # Update the weights\n",
    "        optimizer.step()\n",
    "        \n",
    "        # Sum loss of batch\n",
    "        trainLoss += loss.item()\n",
    "\n",
    "    # Save weights of best model\n",
    "    if bestLoss == None:\n",
    "        bestLoss = trainLoss\n",
    "        torch.save(model.state_dict(), \"models\\\\standard.pt\")\n",
    "    elif trainLoss < bestLoss:\n",
    "        bestLoss = trainLoss\n",
    "        torch.save(model.state_dict(), \"models\\\\standard.pt\")\n",
    "\n",
    "    # Evaluate validation loss\n",
    "    for _, (u_batch, y_batch) in enumerate(valloader):\n",
    "        hidden0 = y_batch[:,0,:]\n",
    "        model.eval()\n",
    "        with torch.no_grad():\n",
    "            y_pred, _ = model(u_batch, hidden0)\n",
    "            loss = Loss(y_pred, y_batch)\n",
    "            valLoss += loss.item()\n",
    "\n",
    "    # Decrease learning rate\n",
    "    scheduler.step(valLoss)\n",
    "    \n",
    "    # Add values to lists\n",
    "    lrList.append(scheduler._last_lr)\n",
    "    trainLossList.append(trainLoss)\n",
    "    valLossList.append(valLoss)"
   ]
  },
  {
   "cell_type": "code",
   "execution_count": null,
   "metadata": {},
   "outputs": [],
   "source": [
    "plt.semilogy(trainLossList)\n",
    "plt.semilogy(valLossList)\n",
    "plt.xlabel('Epoch')\n",
    "plt.ylabel('Loss')\n",
    "plt.show()\n",
    "\n",
    "trainLossList[-1], min(trainLossList), min(valLossList)"
   ]
  },
  {
   "cell_type": "code",
   "execution_count": null,
   "metadata": {},
   "outputs": [],
   "source": [
    "plt.plot(lrList)\n",
    "plt.xlabel('Epoch')\n",
    "plt.ylabel('Learning Rate')\n",
    "plt.show()"
   ]
  }
 ],
 "metadata": {
  "kernelspec": {
   "display_name": "pinns",
   "language": "python",
   "name": "python3"
  },
  "language_info": {
   "codemirror_mode": {
    "name": "ipython",
    "version": 3
   },
   "file_extension": ".py",
   "mimetype": "text/x-python",
   "name": "python",
   "nbconvert_exporter": "python",
   "pygments_lexer": "ipython3",
   "version": "3.12.2"
  }
 },
 "nbformat": 4,
 "nbformat_minor": 2
}
